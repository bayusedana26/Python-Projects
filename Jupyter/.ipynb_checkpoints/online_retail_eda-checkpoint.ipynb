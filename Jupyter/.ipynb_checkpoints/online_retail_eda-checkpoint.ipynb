{
 "cells": [
  {
   "cell_type": "code",
   "execution_count": 2,
   "id": "bd0ab443-6f97-461b-a84d-eda902534161",
   "metadata": {},
   "outputs": [
    {
     "name": "stdout",
     "output_type": "stream",
     "text": [
      "Requirement already satisfied: pip in /opt/anaconda3/lib/python3.12/site-packages (24.3.1)\n",
      "Collecting codeium-jupyter\n",
      "  Downloading codeium_jupyter-2.1.1-py3-none-any.whl.metadata (6.0 kB)\n",
      "Downloading codeium_jupyter-2.1.1-py3-none-any.whl (124 kB)\n",
      "Installing collected packages: codeium-jupyter\n",
      "Successfully installed codeium-jupyter-2.1.1\n"
     ]
    }
   ],
   "source": [
    "import sys\n",
    "!{sys.executable} -m pip install -U pip --user\n",
    "!{sys.executable} -m pip install -U codeium-jupyter --user"
   ]
  },
  {
   "cell_type": "code",
   "execution_count": null,
   "id": "691f57b7-a441-459e-bdda-85cc52c1e4a4",
   "metadata": {},
   "outputs": [],
   "source": []
  },
  {
   "cell_type": "code",
   "execution_count": null,
   "id": "b69f245c-8e8b-4439-b399-922ba0602ebe",
   "metadata": {},
   "outputs": [],
   "source": []
  },
  {
   "cell_type": "code",
   "execution_count": null,
   "id": "c250ccb1-d2f8-45bb-987f-5bb7dd71b0d3",
   "metadata": {},
   "outputs": [],
   "source": []
  },
  {
   "cell_type": "code",
   "execution_count": null,
   "id": "dfa2e7e1-68af-47cc-b89d-6e53978f0e86",
   "metadata": {},
   "outputs": [],
   "source": []
  },
  {
   "cell_type": "code",
   "execution_count": null,
   "id": "c614dfe0-79ee-464b-9ca7-f33b668b0f1d",
   "metadata": {},
   "outputs": [],
   "source": []
  },
  {
   "cell_type": "code",
   "execution_count": null,
   "id": "ff1c17d4-f7cf-48d2-ae52-229b14c1d179",
   "metadata": {},
   "outputs": [],
   "source": []
  },
  {
   "cell_type": "code",
   "execution_count": null,
   "id": "e59caf92-5d94-4ad3-88f6-d5dd72cf075d",
   "metadata": {},
   "outputs": [],
   "source": []
  },
  {
   "cell_type": "code",
   "execution_count": null,
   "id": "3c7c046a-fec3-457e-b356-299b02f9d2b3",
   "metadata": {},
   "outputs": [],
   "source": []
  },
  {
   "cell_type": "code",
   "execution_count": null,
   "id": "8f9fea14-cdf0-4f5f-8941-7381e061a811",
   "metadata": {},
   "outputs": [],
   "source": []
  },
  {
   "cell_type": "code",
   "execution_count": null,
   "id": "39548b51-bb1c-4340-99cb-d9b6b199afed",
   "metadata": {},
   "outputs": [],
   "source": []
  },
  {
   "cell_type": "code",
   "execution_count": null,
   "id": "499d1e5a-ffbe-4aa8-ab98-3d68e5a630ce",
   "metadata": {},
   "outputs": [],
   "source": []
  },
  {
   "cell_type": "code",
   "execution_count": null,
   "id": "295521a5-5da6-4cd2-b995-9c07720f4459",
   "metadata": {},
   "outputs": [],
   "source": []
  },
  {
   "cell_type": "code",
   "execution_count": null,
   "id": "f83b48af-0cb3-4658-a9f7-2927716fcff2",
   "metadata": {},
   "outputs": [],
   "source": []
  },
  {
   "cell_type": "code",
   "execution_count": null,
   "id": "db4d02a6-52e7-403e-9006-23bbe9bcef96",
   "metadata": {},
   "outputs": [],
   "source": []
  },
  {
   "cell_type": "code",
   "execution_count": null,
   "id": "fdeb1f56-60c5-4bf6-833c-785a14d6bc8d",
   "metadata": {},
   "outputs": [],
   "source": []
  },
  {
   "cell_type": "code",
   "execution_count": null,
   "id": "e1ffeb25-e5d4-4256-945b-934f2590d395",
   "metadata": {},
   "outputs": [],
   "source": []
  }
 ],
 "metadata": {
  "kernelspec": {
   "display_name": "Python [conda env:base] *",
   "language": "python",
   "name": "conda-base-py"
  },
  "language_info": {
   "codemirror_mode": {
    "name": "ipython",
    "version": 3
   },
   "file_extension": ".py",
   "mimetype": "text/x-python",
   "name": "python",
   "nbconvert_exporter": "python",
   "pygments_lexer": "ipython3",
   "version": "3.12.7"
  }
 },
 "nbformat": 4,
 "nbformat_minor": 5
}
