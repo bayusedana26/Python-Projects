{
 "cells": [
  {
   "cell_type": "code",
   "execution_count": 1,
   "id": "bd0ab443-6f97-461b-a84d-eda902534161",
   "metadata": {},
   "outputs": [],
   "source": [
    "import pandas as pd\n",
    "import numpy as np\n",
    "import matplotlib.pyplot as plt\n",
    "import seaborn as sns"
   ]
  },
  {
   "cell_type": "code",
   "execution_count": 2,
   "id": "691f57b7-a441-459e-bdda-85cc52c1e4a4",
   "metadata": {},
   "outputs": [
    {
     "name": "stdout",
     "output_type": "stream",
     "text": [
      "<class 'pandas.core.frame.DataFrame'>\n",
      "RangeIndex: 461773 entries, 0 to 461772\n",
      "Data columns (total 7 columns):\n",
      " #   Column        Non-Null Count   Dtype  \n",
      "---  ------        --------------   -----  \n",
      " 0   order_id      461773 non-null  object \n",
      " 1   product_code  461773 non-null  object \n",
      " 2   product_name  459055 non-null  object \n",
      " 3   quantity      461773 non-null  int64  \n",
      " 4   order_date    461773 non-null  object \n",
      " 5   price         461773 non-null  float64\n",
      " 6   customer_id   360853 non-null  float64\n",
      "dtypes: float64(2), int64(1), object(4)\n",
      "memory usage: 24.7+ MB\n"
     ]
    },
    {
     "data": {
      "text/plain": [
       "(  order_id product_code                     product_name  quantity  \\\n",
       " 0   493410      TEST001          This is a test product.         5   \n",
       " 1  C493411        21539          RETRO SPOTS BUTTER DISH        -1   \n",
       " 2   493412      TEST001          This is a test product.         5   \n",
       " 3   493413        21724  PANDA AND BUNNIES STICKER SHEET         1   \n",
       " 4   493413        84578   ELEPHANT TOY WITH BLUE T-SHIRT         1   \n",
       " \n",
       "             order_date  price  customer_id  \n",
       " 0  2010-01-04 09:24:00   4.50      12346.0  \n",
       " 1  2010-01-04 09:43:00   4.25      14590.0  \n",
       " 2  2010-01-04 09:53:00   4.50      12346.0  \n",
       " 3  2010-01-04 09:54:00   0.85          NaN  \n",
       " 4  2010-01-04 09:54:00   3.75          NaN  ,\n",
       " None,\n",
       "             quantity          price    customer_id\n",
       " count  461773.000000  461773.000000  360853.000000\n",
       " mean        9.088892       4.569963   15557.611138\n",
       " std        86.366467     153.411566    1593.728741\n",
       " min     -9600.000000  -53594.360000   12346.000000\n",
       " 25%         1.000000       1.250000   14210.000000\n",
       " 50%         3.000000       2.100000   15580.000000\n",
       " 75%        10.000000       4.210000   16938.000000\n",
       " max     10200.000000   25111.090000   18287.000000)"
      ]
     },
     "execution_count": 2,
     "metadata": {},
     "output_type": "execute_result"
    }
   ],
   "source": [
    "df = pd.read_csv('/Users/bayusedana/Documents/GitHub/Python-Projects/Jupyter/online_retail.csv', encoding = 'ISO-8859-1')\n",
    "\n",
    "df.head(), df.info(), df.describe()"
   ]
  },
  {
   "cell_type": "code",
   "execution_count": null,
   "id": "b69f245c-8e8b-4439-b399-922ba0602ebe",
   "metadata": {},
   "outputs": [],
   "source": []
  },
  {
   "cell_type": "code",
   "execution_count": null,
   "id": "c250ccb1-d2f8-45bb-987f-5bb7dd71b0d3",
   "metadata": {},
   "outputs": [],
   "source": []
  },
  {
   "cell_type": "code",
   "execution_count": null,
   "id": "dfa2e7e1-68af-47cc-b89d-6e53978f0e86",
   "metadata": {},
   "outputs": [],
   "source": []
  },
  {
   "cell_type": "code",
   "execution_count": null,
   "id": "c614dfe0-79ee-464b-9ca7-f33b668b0f1d",
   "metadata": {},
   "outputs": [],
   "source": []
  },
  {
   "cell_type": "code",
   "execution_count": null,
   "id": "ff1c17d4-f7cf-48d2-ae52-229b14c1d179",
   "metadata": {},
   "outputs": [],
   "source": []
  },
  {
   "cell_type": "code",
   "execution_count": null,
   "id": "e59caf92-5d94-4ad3-88f6-d5dd72cf075d",
   "metadata": {},
   "outputs": [],
   "source": []
  },
  {
   "cell_type": "code",
   "execution_count": null,
   "id": "3c7c046a-fec3-457e-b356-299b02f9d2b3",
   "metadata": {},
   "outputs": [],
   "source": []
  },
  {
   "cell_type": "code",
   "execution_count": null,
   "id": "8f9fea14-cdf0-4f5f-8941-7381e061a811",
   "metadata": {},
   "outputs": [],
   "source": []
  },
  {
   "cell_type": "code",
   "execution_count": null,
   "id": "39548b51-bb1c-4340-99cb-d9b6b199afed",
   "metadata": {},
   "outputs": [],
   "source": []
  },
  {
   "cell_type": "code",
   "execution_count": null,
   "id": "499d1e5a-ffbe-4aa8-ab98-3d68e5a630ce",
   "metadata": {},
   "outputs": [],
   "source": []
  },
  {
   "cell_type": "code",
   "execution_count": null,
   "id": "295521a5-5da6-4cd2-b995-9c07720f4459",
   "metadata": {},
   "outputs": [],
   "source": []
  },
  {
   "cell_type": "code",
   "execution_count": null,
   "id": "f83b48af-0cb3-4658-a9f7-2927716fcff2",
   "metadata": {},
   "outputs": [],
   "source": []
  },
  {
   "cell_type": "code",
   "execution_count": null,
   "id": "db4d02a6-52e7-403e-9006-23bbe9bcef96",
   "metadata": {},
   "outputs": [],
   "source": []
  },
  {
   "cell_type": "code",
   "execution_count": null,
   "id": "fdeb1f56-60c5-4bf6-833c-785a14d6bc8d",
   "metadata": {},
   "outputs": [],
   "source": []
  },
  {
   "cell_type": "code",
   "execution_count": null,
   "id": "e1ffeb25-e5d4-4256-945b-934f2590d395",
   "metadata": {},
   "outputs": [],
   "source": []
  }
 ],
 "metadata": {
  "kernelspec": {
   "display_name": "base",
   "language": "python",
   "name": "python3"
  },
  "language_info": {
   "codemirror_mode": {
    "name": "ipython",
    "version": 3
   },
   "file_extension": ".py",
   "mimetype": "text/x-python",
   "name": "python",
   "nbconvert_exporter": "python",
   "pygments_lexer": "ipython3",
   "version": "3.12.7"
  }
 },
 "nbformat": 4,
 "nbformat_minor": 5
}
